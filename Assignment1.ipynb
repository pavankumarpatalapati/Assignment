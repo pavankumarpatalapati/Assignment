{
  "nbformat": 4,
  "nbformat_minor": 0,
  "metadata": {
    "colab": {
      "name": "Assignment1.ipynb",
      "provenance": []
    },
    "kernelspec": {
      "name": "python3",
      "display_name": "Python 3"
    }
  },
  "cells": [
    {
      "cell_type": "code",
      "metadata": {
        "id": "7xDWoPk-nTkL",
        "colab_type": "code",
        "colab": {}
      },
      "source": [
        ""
      ],
      "execution_count": null,
      "outputs": []
    },
    {
      "cell_type": "markdown",
      "metadata": {
        "id": "N_FSJRARnZEV",
        "colab_type": "text"
      },
      "source": [
        "1.Write a program which will find all such numbers where are divisible by 7 but are not a multiple of 5,\n",
        "between 200 and 3200 (both including). The numbers obtained should be printed in a comma-separated sequence\n",
        "on a single line."
      ]
    },
    {
      "cell_type": "markdown",
      "metadata": {
        "id": "pF7lT1RxnYJV",
        "colab_type": "text"
      },
      "source": [
        ""
      ]
    },
    {
      "cell_type": "code",
      "metadata": {
        "id": "4aOI1fj2oaCE",
        "colab_type": "code",
        "colab": {
          "base_uri": "https://localhost:8080/",
          "height": 71
        },
        "outputId": "136931b7-c33e-4ba3-9d1a-a01355915c9b"
      },
      "source": [
        "c=0\n",
        "for i in range(200,3201):\n",
        "  if(i%7==0 and i%5!=0):\n",
        "    print(i,end=' ')\n",
        "    c=c+1\n",
        "print()\n",
        "print('Count of multiples:'+ str(c))"
      ],
      "execution_count": 5,
      "outputs": [
        {
          "output_type": "stream",
          "text": [
            "203 217 224 231 238 252 259 266 273 287 294 301 308 322 329 336 343 357 364 371 378 392 399 406 413 427 434 441 448 462 469 476 483 497 504 511 518 532 539 546 553 567 574 581 588 602 609 616 623 637 644 651 658 672 679 686 693 707 714 721 728 742 749 756 763 777 784 791 798 812 819 826 833 847 854 861 868 882 889 896 903 917 924 931 938 952 959 966 973 987 994 1001 1008 1022 1029 1036 1043 1057 1064 1071 1078 1092 1099 1106 1113 1127 1134 1141 1148 1162 1169 1176 1183 1197 1204 1211 1218 1232 1239 1246 1253 1267 1274 1281 1288 1302 1309 1316 1323 1337 1344 1351 1358 1372 1379 1386 1393 1407 1414 1421 1428 1442 1449 1456 1463 1477 1484 1491 1498 1512 1519 1526 1533 1547 1554 1561 1568 1582 1589 1596 1603 1617 1624 1631 1638 1652 1659 1666 1673 1687 1694 1701 1708 1722 1729 1736 1743 1757 1764 1771 1778 1792 1799 1806 1813 1827 1834 1841 1848 1862 1869 1876 1883 1897 1904 1911 1918 1932 1939 1946 1953 1967 1974 1981 1988 2002 2009 2016 2023 2037 2044 2051 2058 2072 2079 2086 2093 2107 2114 2121 2128 2142 2149 2156 2163 2177 2184 2191 2198 2212 2219 2226 2233 2247 2254 2261 2268 2282 2289 2296 2303 2317 2324 2331 2338 2352 2359 2366 2373 2387 2394 2401 2408 2422 2429 2436 2443 2457 2464 2471 2478 2492 2499 2506 2513 2527 2534 2541 2548 2562 2569 2576 2583 2597 2604 2611 2618 2632 2639 2646 2653 2667 2674 2681 2688 2702 2709 2716 2723 2737 2744 2751 2758 2772 2779 2786 2793 2807 2814 2821 2828 2842 2849 2856 2863 2877 2884 2891 2898 2912 2919 2926 2933 2947 2954 2961 2968 2982 2989 2996 3003 3017 3024 3031 3038 3052 3059 3066 3073 3087 3094 3101 3108 3122 3129 3136 3143 3157 3164 3171 3178 3192 3199 \n",
            "Count of multiples:343\n"
          ],
          "name": "stdout"
        }
      ]
    },
    {
      "cell_type": "markdown",
      "metadata": {
        "id": "pCqSIkNBqCHi",
        "colab_type": "text"
      },
      "source": [
        "2.Write a Python program to accept the user's first and last name and then getting them printed in the reverse order with a space between first name and last name."
      ]
    },
    {
      "cell_type": "code",
      "metadata": {
        "id": "8WgSlOrEp9wc",
        "colab_type": "code",
        "colab": {
          "base_uri": "https://localhost:8080/",
          "height": 85
        },
        "outputId": "fe52274d-fb33-4359-f0e3-179a2f60a450"
      },
      "source": [
        "First_name=input('Enter your first name:')\n",
        "Last_name=input('Enter your last name')\n",
        "print('Reverse order of your name:')\n",
        "print(First_name[: :-1]+' '+Last_name[: :-1])"
      ],
      "execution_count": 7,
      "outputs": [
        {
          "output_type": "stream",
          "text": [
            "Enter your first name:Pavan\n",
            "Enter your last nameKumar\n",
            "Reverse order of your name:\n",
            "navaP ramuK\n"
          ],
          "name": "stdout"
        }
      ]
    },
    {
      "cell_type": "markdown",
      "metadata": {
        "id": "VaQunRVyraoQ",
        "colab_type": "text"
      },
      "source": [
        "3. Write a python program to find the volume of a sphere with diameter 12 cm. "
      ]
    },
    {
      "cell_type": "code",
      "metadata": {
        "id": "NTV3gT_Prifo",
        "colab_type": "code",
        "colab": {
          "base_uri": "https://localhost:8080/",
          "height": 51
        },
        "outputId": "51f9904c-aff0-4423-96e1-be3b2070d334"
      },
      "source": [
        "diameter= float(input('Enter the sphere diameter'))\n",
        "r=diameter/2\n",
        "print('The volume of the sphere is:'+ str((4/3)*(22/7)*r*r*r))"
      ],
      "execution_count": 12,
      "outputs": [
        {
          "output_type": "stream",
          "text": [
            "Enter the sphere diameter6\n",
            "The volume of the sphere is:113.14285714285712\n"
          ],
          "name": "stdout"
        }
      ]
    },
    {
      "cell_type": "markdown",
      "metadata": {
        "id": "9_7KNjCBrXOs",
        "colab_type": "text"
      },
      "source": [
        ""
      ]
    }
  ]
}